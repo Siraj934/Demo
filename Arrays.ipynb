{
 "cells": [
  {
   "cell_type": "code",
   "execution_count": 19,
   "id": "65a7e187-d7e2-4e31-9b2a-344f64743198",
   "metadata": {},
   "outputs": [
    {
     "name": "stdout",
     "output_type": "stream",
     "text": [
      "[5, 3, 6, 7, 8]\n",
      "[5, 3, 6, 7, 8]\n",
      "[5, 3, 6, 7, 8]\n",
      "[5, 3, 6, 7, 8]\n",
      "[5, 3, 6, 7, 8]\n"
     ]
    }
   ],
   "source": [
    "a=[5,3,6,7,8]\n",
    "for i in range(len(a)):\n",
    "    print(a)"
   ]
  },
  {
   "cell_type": "code",
   "execution_count": 23,
   "id": "90a08677-149d-46f2-8478-83752f901112",
   "metadata": {},
   "outputs": [
    {
     "name": "stdout",
     "output_type": "stream",
     "text": [
      "29\n",
      "\n"
     ]
    }
   ],
   "source": [
    "a=[5,3,6,7,8]\n",
    "b=0\n",
    "for i in a:\n",
    "    b=b+i\n",
    "print(b)\n",
    "print()"
   ]
  },
  {
   "cell_type": "code",
   "execution_count": 31,
   "id": "49660c1c-86ab-4e01-b377-344cc28a8524",
   "metadata": {},
   "outputs": [
    {
     "name": "stdout",
     "output_type": "stream",
     "text": [
      "5040\n",
      "\n"
     ]
    }
   ],
   "source": [
    "a=[5,3,6,7,8]\n",
    "b=1\n",
    "for i in a:\n",
    "    b=b*i\n",
    "print(b)\n",
    "print()"
   ]
  },
  {
   "cell_type": "code",
   "execution_count": 37,
   "id": "31444d4e-55dd-482d-b2b9-5d35f34c931d",
   "metadata": {},
   "outputs": [
    {
     "name": "stdout",
     "output_type": "stream",
     "text": [
      "8\n",
      "\n"
     ]
    }
   ],
   "source": [
    "a=[5,3,6,7,8]\n",
    "b=max(a)\n",
    "print(b)\n",
    "print()"
   ]
  },
  {
   "cell_type": "code",
   "execution_count": 45,
   "id": "d323f714-8d25-4906-b521-49b289a8cacf",
   "metadata": {},
   "outputs": [
    {
     "name": "stdout",
     "output_type": "stream",
     "text": [
      "2\n",
      "\n"
     ]
    }
   ],
   "source": [
    "a=[5,3,6,7,8]\n",
    "c=0\n",
    "for i in a:\n",
    "    if(i%2)==0:\n",
    "     c+=1\n",
    "print(c)\n",
    "print()"
   ]
  },
  {
   "cell_type": "code",
   "execution_count": 47,
   "id": "256ad026-2e57-45df-84a5-266cb14a8a5d",
   "metadata": {},
   "outputs": [
    {
     "name": "stdout",
     "output_type": "stream",
     "text": [
      "3\n",
      "\n"
     ]
    }
   ],
   "source": [
    "a=[5,3,6,7,8]\n",
    "c=0\n",
    "for i in a:\n",
    "    if(i%2)!=0:\n",
    "     c+=1\n",
    "print(c)\n",
    "print()"
   ]
  },
  {
   "cell_type": "code",
   "execution_count": 91,
   "id": "bdeddb3f-f809-445f-b815-28f1c6d39018",
   "metadata": {},
   "outputs": [
    {
     "name": "stdout",
     "output_type": "stream",
     "text": [
      "8\n",
      "\n"
     ]
    }
   ],
   "source": [
    "a=[5,3,6,7,8]\n",
    "max=a[0]\n",
    "for i in range(1,len(a)):\n",
    "    if a[i]>max:\n",
    "        max=a[i]\n",
    "print(max)\n",
    "print()\n",
    "    "
   ]
  },
  {
   "cell_type": "code",
   "execution_count": 87,
   "id": "186a2402-ab2f-4fe4-8430-df80ba6806aa",
   "metadata": {},
   "outputs": [
    {
     "name": "stdout",
     "output_type": "stream",
     "text": [
      "3\n",
      "\n"
     ]
    }
   ],
   "source": [
    "a=[5,3,6,7,8]\n",
    "min=a[0]\n",
    "for i in range(1,len(a)):\n",
    "    if a[i]<min:\n",
    "        min=a[i]\n",
    "print(min)\n",
    "print()\n",
    "    "
   ]
  },
  {
   "cell_type": "code",
   "execution_count": 95,
   "id": "e32dd57b-a06f-4ebd-8d53-d1c3b107663d",
   "metadata": {},
   "outputs": [
    {
     "name": "stdout",
     "output_type": "stream",
     "text": [
      "8\n",
      "\n"
     ]
    }
   ],
   "source": [
    "a=[5,3,6,7,8]\n",
    "maxx=-(1<<64)\n",
    "n=len(a)\n",
    "for i in range(n):\n",
    "    if(a[i]>=maxx):\n",
    "        maxx=a[i]\n",
    "print(maxx)\n",
    "print()\n",
    "    "
   ]
  },
  {
   "cell_type": "code",
   "execution_count": 105,
   "id": "6ad8e85f-943c-48ff-873d-24505b7d5d21",
   "metadata": {},
   "outputs": [
    {
     "name": "stdout",
     "output_type": "stream",
     "text": [
      "0\n",
      "\n"
     ]
    }
   ],
   "source": [
    "a=[1,5,3,6,0,7,8]\n",
    "minn=a[0]\n",
    "n=len(a)\n",
    "for i in range(n):\n",
    "    if(a[i]<=minn):\n",
    "        minn=a[i]\n",
    "print(minn)\n",
    "print()"
   ]
  },
  {
   "cell_type": "code",
   "execution_count": 144,
   "id": "d67968c5-5795-4392-befd-d41393209131",
   "metadata": {},
   "outputs": [
    {
     "name": "stdout",
     "output_type": "stream",
     "text": [
      "[6, 4, 2, 1, 5, 3]\n",
      "\n"
     ]
    }
   ],
   "source": [
    "a=[1,2,3,4,5,6]\n",
    "n=len(a)\n",
    "i=a[0]\n",
    "j=a[0]\n",
    "for i in range(n):\n",
    "    for j in range(n):\n",
    "        if (a[i]%2==0):\n",
    "         a[i]=a[i]+a[j]\n",
    "         a[j]=a[i]-a[j]\n",
    "         a[i]=a[i]-a[j]\n",
    "         j+=1\n",
    "    i+=1\n",
    "print(a)\n",
    "print()"
   ]
  },
  {
   "cell_type": "code",
   "execution_count": 148,
   "id": "737eb629-320c-415c-a586-00006ca9ab4c",
   "metadata": {},
   "outputs": [
    {
     "name": "stdout",
     "output_type": "stream",
     "text": [
      "[2, 1, 4, 3, 6, 5]\n",
      "\n"
     ]
    }
   ],
   "source": [
    "a=[1,2,3,4,5,6]\n",
    "n=len(a)\n",
    "i=a[0]\n",
    "for i in range(n):\n",
    "    for j in range(n):\n",
    "        if (a[i]%2==0):\n",
    "         a[i]=a[i]+a[i-1]\n",
    "         a[i-1]=a[i]-a[i-1]\n",
    "         a[i]=a[i]-a[i-1]\n",
    "    i+=2\n",
    "print(a)\n",
    "print()"
   ]
  },
  {
   "cell_type": "code",
   "execution_count": 154,
   "id": "f9cd8b50-f573-4e78-9070-0c0a02bf3a52",
   "metadata": {},
   "outputs": [
    {
     "name": "stdout",
     "output_type": "stream",
     "text": [
      "[6, 5, 4, 3, 2, 1]\n",
      "\n"
     ]
    }
   ],
   "source": [
    "a=[1,2,3,4,5,6]\n",
    "n=len(a)\n",
    "i=0\n",
    "j=n-1\n",
    "while(i<j):\n",
    "    a[i]=a[i]+a[j]\n",
    "    a[j]=a[i]-a[j]\n",
    "    a[i]=a[i]-a[j]\n",
    "    i+=1\n",
    "    j-=1\n",
    "print(a)\n",
    "print()"
   ]
  },
  {
   "cell_type": "code",
   "execution_count": 166,
   "id": "867266d4-e57f-40d3-847f-23abaea75196",
   "metadata": {},
   "outputs": [
    {
     "name": "stdout",
     "output_type": "stream",
     "text": [
      "None None None None None 5 "
     ]
    }
   ],
   "source": [
    "a=[1,2,3,4,5,6]\n",
    "n=len(a)\n",
    "tar=6\n",
    "for i in range(n):\n",
    "    if(a[i]==tar):\n",
    "        print(i,end=' ')\n",
    "    else:\n",
    "        print(\"None\",end=' ')"
   ]
  },
  {
   "cell_type": "code",
   "execution_count": 11,
   "id": "de03af23-7c55-4e3f-a348-7ae894a4831c",
   "metadata": {},
   "outputs": [
    {
     "name": "stdout",
     "output_type": "stream",
     "text": [
      "[2, 1, 4, 3, 6, 5]\n",
      "\n"
     ]
    }
   ],
   "source": [
    "a=[1,2,3,4,5,6]\n",
    "n=len(a)\n",
    "i=a[0]\n",
    "for i in range(n):\n",
    "    for j in range(n):\n",
    "        if(a[i]%2==0):\n",
    "            a[i]=a[i]+a[i-1]\n",
    "            a[i-1]=a[i]-a[i-1]\n",
    "            a[i]=a[i]-a[i-1]\n",
    "    i+=1\n",
    "print(a)\n",
    "print()"
   ]
  },
  {
   "cell_type": "code",
   "execution_count": null,
   "id": "80b1df69-0e83-4047-b655-287fb3facf8e",
   "metadata": {},
   "outputs": [],
   "source": [
    "a=[1,2,3,4,5,6]\n",
    "n=len(a)\n",
    "i=0\n",
    "j=n-1\n",
    "while(i<j):\n",
    "    a[i]=a[i]+a[j]\n",
    "    a[j]=a[i]-a[j]\n",
    "    a[i]=a[i]-a[j]\n",
    "    i+=1\n",
    "    j-=1\n",
    "print(a)\n",
    "print()"
   ]
  },
  {
   "cell_type": "code",
   "execution_count": null,
   "id": "e3fc6d02-d845-4da2-92fc-87a61430b0af",
   "metadata": {},
   "outputs": [],
   "source": [
    "b=[3,6,9,12]\n",
    "n1=len(a)\n",
    "n2=len(b)\n",
    "c=[0]*8\n",
    "i=0\n",
    "j=0\n",
    "k=0\n",
    "while(i<n1 and j<n2):\n",
    "    if(a[i]<b[j]):\n",
    "        c[k]=a[i]\n",
    "        i+=1\n",
    "    else:\n",
    "        c[k]=b[j]\n",
    "        j+=1\n",
    "    k+=1\n",
    "while i<n1:\n",
    "    c[k]=a[i]\n",
    "    i+=1\n",
    "    k+=1\n",
    "while j<n2:\n",
    "    c[k]=b[j]\n",
    "    j+=1\n",
    "    k+=1\n",
    "n1+=1\n",
    "n2+=1\n",
    "print(c)"
   ]
  },
  {
   "cell_type": "code",
   "execution_count": null,
   "id": "9a450cc7-c129-4964-81c1-4924740bb546",
   "metadata": {},
   "outputs": [],
   "source": []
  }
 ],
 "metadata": {
  "kernelspec": {
   "display_name": "Python 3 (ipykernel)",
   "language": "python",
   "name": "python3"
  },
  "language_info": {
   "codemirror_mode": {
    "name": "ipython",
    "version": 3
   },
   "file_extension": ".py",
   "mimetype": "text/x-python",
   "name": "python",
   "nbconvert_exporter": "python",
   "pygments_lexer": "ipython3",
   "version": "3.12.4"
  }
 },
 "nbformat": 4,
 "nbformat_minor": 5
}
